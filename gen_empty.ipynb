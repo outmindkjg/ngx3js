{
 "metadata": {
  "language_info": {
   "codemirror_mode": {
    "name": "ipython",
    "version": 3
   },
   "file_extension": ".py",
   "mimetype": "text/x-python",
   "name": "python",
   "nbconvert_exporter": "python",
   "pygments_lexer": "ipython3",
   "version": "3.9.2-final"
  },
  "orig_nbformat": 2,
  "kernelspec": {
   "name": "python3",
   "display_name": "Python 3.9.2 64-bit",
   "metadata": {
    "interpreter": {
     "hash": "63fd5069d213b44bf678585dea6b12cceca9941eaf7f819626cde1f2670de90d"
    }
   }
  }
 },
 "nbformat": 4,
 "nbformat_minor": 2,
 "cells": [
  {
   "cell_type": "code",
   "execution_count": 3,
   "metadata": {},
   "outputs": [],
   "source": [
    "from glob import glob\n",
    "import re\n",
    "\n",
    "def loadFile(file_name) :\n",
    "    with open(file_name, \"r\") as f :\n",
    "        return \"\".join(f.readlines())\n",
    "    return \"\"\n",
    "\n",
    "def saveFile(file_name, contents) :\n",
    "    with open(file_name, \"w\") as f :\n",
    "        f.write(contents)\n",
    "\n",
    "def readdir(dir_path, ext) :\n",
    "    return glob(\"{0}/*/*.component.{1}\".format(dir_path, ext))"
   ]
  },
  {
   "cell_type": "code",
   "execution_count": 7,
   "metadata": {},
   "outputs": [
    {
     "output_type": "execute_result",
     "data": {
      "text/plain": [
       "['src/app/chapter08\\\\page0801\\\\page0801.component.html',\n",
       " 'src/app/chapter08\\\\page0802\\\\page0802.component.html',\n",
       " 'src/app/chapter08\\\\page0803\\\\page0803.component.html',\n",
       " 'src/app/chapter08\\\\page0804\\\\page0804.component.html',\n",
       " 'src/app/chapter08\\\\page0805\\\\page0805.component.html',\n",
       " 'src/app/chapter08\\\\page0806\\\\page0806.component.html',\n",
       " 'src/app/chapter08\\\\page0807\\\\page0807.component.html',\n",
       " 'src/app/chapter08\\\\page0808\\\\page0808.component.html',\n",
       " 'src/app/chapter08\\\\page0809\\\\page0809.component.html',\n",
       " 'src/app/chapter08\\\\page0810\\\\page0810.component.html',\n",
       " 'src/app/chapter08\\\\page0811\\\\page0811.component.html',\n",
       " 'src/app/chapter08\\\\page0812\\\\page0812.component.html',\n",
       " 'src/app/chapter08\\\\page0813\\\\page0813.component.html',\n",
       " 'src/app/chapter08\\\\page0814\\\\page0814.component.html',\n",
       " 'src/app/chapter08\\\\page0815\\\\page0815.component.html',\n",
       " 'src/app/chapter08\\\\page0816\\\\page0816.component.html',\n",
       " 'src/app/chapter08\\\\page0817\\\\page0817.component.html']"
      ]
     },
     "metadata": {},
     "execution_count": 7
    }
   ],
   "source": [
    "readdir(\"src/app/chapter09\",\"html\")"
   ]
  },
  {
   "cell_type": "code",
   "execution_count": 12,
   "metadata": {
    "tags": []
   },
   "outputs": [],
   "source": [
    "contents = loadFile('src/app/examples/under-construction/under-construction.component.html')\n",
    "for filename in readdir(\"src/app/examples/\",\"html\") :\n",
    "    oldContents = loadFile(filename)\n",
    "    if oldContents.startswith('<p>') or oldContents.startswith('import') :\n",
    "        # txt_name = re.sub(\".+page([0-9]+[ab]?)\\..+\", \"\\\\1\", filename)\n",
    "        newcontents = contents\n",
    "        saveFile(filename, newcontents)\n",
    "        print(filename)\n",
    "        "
   ]
  },
  {
   "cell_type": "code",
   "execution_count": 9,
   "metadata": {
    "tags": []
   },
   "outputs": [
    {
     "output_type": "stream",
     "name": "stdout",
     "text": [
      "src/app/examples\\webgl-effects-anaglyph\\webgl-effects-anaglyph.component.ts\n",
      "src/app/examples\\webgl-effects-ascii\\webgl-effects-ascii.component.ts\n",
      "src/app/examples\\webgl-effects-parallaxbarrier\\webgl-effects-parallaxbarrier.component.ts\n",
      "src/app/examples\\webgl-effects-peppersghost\\webgl-effects-peppersghost.component.ts\n",
      "src/app/examples\\webgl-effects-stereo\\webgl-effects-stereo.component.ts\n",
      "src/app/examples\\webgl-framebuffer-texture\\webgl-framebuffer-texture.component.ts\n",
      "src/app/examples\\webgl-geometries\\webgl-geometries.component.ts\n",
      "src/app/examples\\webgl-geometries-parametric\\webgl-geometries-parametric.component.ts\n",
      "src/app/examples\\webgl-geometry-colors\\webgl-geometry-colors.component.ts\n",
      "src/app/examples\\webgl-geometry-colors-lookuptable\\webgl-geometry-colors-lookuptable.component.ts\n",
      "src/app/examples\\webgl-geometry-convex\\webgl-geometry-convex.component.ts\n",
      "src/app/examples\\webgl-geometry-cube\\webgl-geometry-cube.component.ts\n",
      "src/app/examples\\webgl-geometry-dynamic\\webgl-geometry-dynamic.component.ts\n",
      "src/app/examples\\webgl-geometry-extrude-shapes\\webgl-geometry-extrude-shapes.component.ts\n",
      "src/app/examples\\webgl-geometry-extrude-shapes2\\webgl-geometry-extrude-shapes2.component.ts\n",
      "src/app/examples\\webgl-geometry-extrude-splines\\webgl-geometry-extrude-splines.component.ts\n",
      "src/app/examples\\webgl-geometry-hierarchy\\webgl-geometry-hierarchy.component.ts\n",
      "src/app/examples\\webgl-geometry-hierarchy2\\webgl-geometry-hierarchy2.component.ts\n",
      "src/app/examples\\webgl-geometry-minecraft\\webgl-geometry-minecraft.component.ts\n",
      "src/app/examples\\webgl-geometry-minecraft-ao\\webgl-geometry-minecraft-ao.component.ts\n",
      "src/app/examples\\webgl-geometry-normals\\webgl-geometry-normals.component.ts\n",
      "src/app/examples\\webgl-geometry-nurbs\\webgl-geometry-nurbs.component.ts\n",
      "src/app/examples\\webgl-geometry-shapes\\webgl-geometry-shapes.component.ts\n",
      "src/app/examples\\webgl-geometry-spline-editor\\webgl-geometry-spline-editor.component.ts\n",
      "src/app/examples\\webgl-geometry-teapot\\webgl-geometry-teapot.component.ts\n",
      "src/app/examples\\webgl-geometry-terrain\\webgl-geometry-terrain.component.ts\n",
      "src/app/examples\\webgl-geometry-terrain-fog\\webgl-geometry-terrain-fog.component.ts\n",
      "src/app/examples\\webgl-geometry-terrain-raycast\\webgl-geometry-terrain-raycast.component.ts\n",
      "src/app/examples\\webgl-geometry-text\\webgl-geometry-text.component.ts\n",
      "src/app/examples\\webgl-geometry-text-shapes\\webgl-geometry-text-shapes.component.ts\n",
      "src/app/examples\\webgl-geometry-text-stroke\\webgl-geometry-text-stroke.component.ts\n",
      "src/app/examples\\webgl-helpers\\webgl-helpers.component.ts\n",
      "src/app/examples\\webgl-instancing-dynamic\\webgl-instancing-dynamic.component.ts\n",
      "src/app/examples\\webgl-instancing-performance\\webgl-instancing-performance.component.ts\n",
      "src/app/examples\\webgl-instancing-raycast\\webgl-instancing-raycast.component.ts\n",
      "src/app/examples\\webgl-instancing-scatter\\webgl-instancing-scatter.component.ts\n",
      "src/app/examples\\webgl-interactive-buffergeometry\\webgl-interactive-buffergeometry.component.ts\n",
      "src/app/examples\\webgl-interactive-cubes\\webgl-interactive-cubes.component.ts\n",
      "src/app/examples\\webgl-interactive-cubes-gpu\\webgl-interactive-cubes-gpu.component.ts\n",
      "src/app/examples\\webgl-interactive-cubes-ortho\\webgl-interactive-cubes-ortho.component.ts\n",
      "src/app/examples\\webgl-interactive-lines\\webgl-interactive-lines.component.ts\n",
      "src/app/examples\\webgl-interactive-points\\webgl-interactive-points.component.ts\n",
      "src/app/examples\\webgl-interactive-raycasting-points\\webgl-interactive-raycasting-points.component.ts\n",
      "src/app/examples\\webgl-interactive-voxelpainter\\webgl-interactive-voxelpainter.component.ts\n",
      "src/app/examples\\webgl-layers\\webgl-layers.component.ts\n",
      "src/app/examples\\webgl-lensflares\\webgl-lensflares.component.ts\n",
      "src/app/examples\\webgl-lightprobe\\webgl-lightprobe.component.ts\n",
      "src/app/examples\\webgl-lightprobe-cubecamera\\webgl-lightprobe-cubecamera.component.ts\n",
      "src/app/examples\\webgl-lights-hemisphere\\webgl-lights-hemisphere.component.ts\n",
      "src/app/examples\\webgl-lights-physical\\webgl-lights-physical.component.ts\n",
      "src/app/examples\\webgl-lights-pointlights\\webgl-lights-pointlights.component.ts\n",
      "src/app/examples\\webgl-lights-pointlights2\\webgl-lights-pointlights2.component.ts\n",
      "src/app/examples\\webgl-lights-spotlight\\webgl-lights-spotlight.component.ts\n",
      "src/app/examples\\webgl-lights-spotlights\\webgl-lights-spotlights.component.ts\n",
      "src/app/examples\\webgl-lights-rectarealight\\webgl-lights-rectarealight.component.ts\n",
      "src/app/examples\\webgl-lines-colors\\webgl-lines-colors.component.ts\n",
      "src/app/examples\\webgl-lines-dashed\\webgl-lines-dashed.component.ts\n",
      "src/app/examples\\webgl-lines-fat\\webgl-lines-fat.component.ts\n",
      "src/app/examples\\webgl-lines-fat-wireframe\\webgl-lines-fat-wireframe.component.ts\n",
      "src/app/examples\\webgl-lines-sphere\\webgl-lines-sphere.component.ts\n",
      "src/app/examples\\webgl-materials-blending\\webgl-materials-blending.component.ts\n",
      "src/app/examples\\webgl-materials\\webgl-materials.component.ts\n",
      "src/app/examples\\webgl-marchingcubes\\webgl-marchingcubes.component.ts\n",
      "src/app/examples\\webgl-lod\\webgl-lod.component.ts\n",
      "src/app/examples\\webgl-loader-xyz\\webgl-loader-xyz.component.ts\n",
      "src/app/examples\\webgl-loader-x\\webgl-loader-x.component.ts\n",
      "src/app/examples\\webgl-loader-vtk\\webgl-loader-vtk.component.ts\n",
      "src/app/examples\\webgl-loader-vrml\\webgl-loader-vrml.component.ts\n",
      "src/app/examples\\webgl-loader-vrm\\webgl-loader-vrm.component.ts\n",
      "src/app/examples\\webgl-loader-vox\\webgl-loader-vox.component.ts\n",
      "src/app/examples\\webgl-loader-ttf\\webgl-loader-ttf.component.ts\n",
      "src/app/examples\\webgl-loader-texture-tga\\webgl-loader-texture-tga.component.ts\n",
      "src/app/examples\\webgl-loader-texture-rgbm\\webgl-loader-texture-rgbm.component.ts\n",
      "src/app/examples\\webgl-loader-texture-pvrtc\\webgl-loader-texture-pvrtc.component.ts\n",
      "src/app/examples\\webgl-loader-texture-lottie\\webgl-loader-texture-lottie.component.ts\n",
      "src/app/examples\\webgl-loader-texture-ktx2\\webgl-loader-texture-ktx2.component.ts\n",
      "src/app/examples\\webgl-loader-texture-ktx\\webgl-loader-texture-ktx.component.ts\n",
      "src/app/examples\\webgl-loader-texture-hdr\\webgl-loader-texture-hdr.component.ts\n",
      "src/app/examples\\webgl-loader-texture-exr\\webgl-loader-texture-exr.component.ts\n",
      "src/app/examples\\webgl-loader-texture-dds\\webgl-loader-texture-dds.component.ts\n",
      "src/app/examples\\webgl-loader-texture-basis\\webgl-loader-texture-basis.component.ts\n",
      "src/app/examples\\webgl-loader-tilt\\webgl-loader-tilt.component.ts\n",
      "src/app/examples\\webgl-loader-svg\\webgl-loader-svg.component.ts\n",
      "src/app/examples\\webgl-loader-stl\\webgl-loader-stl.component.ts\n",
      "src/app/examples\\webgl-loader-prwm\\webgl-loader-prwm.component.ts\n",
      "src/app/examples\\webgl-loader-ply\\webgl-loader-ply.component.ts\n",
      "src/app/examples\\webgl-loader-pdb\\webgl-loader-pdb.component.ts\n",
      "src/app/examples\\webgl-loader-pcd\\webgl-loader-pcd.component.ts\n",
      "src/app/examples\\webgl-loader-obj-mtl\\webgl-loader-obj-mtl.component.ts\n",
      "src/app/examples\\webgl-loader-obj\\webgl-loader-obj.component.ts\n",
      "src/app/examples\\webgl-loader-nrrd\\webgl-loader-nrrd.component.ts\n",
      "src/app/examples\\webgl-loader-mmd-audio\\webgl-loader-mmd-audio.component.ts\n",
      "src/app/examples\\webgl-loader-mmd-pose\\webgl-loader-mmd-pose.component.ts\n",
      "src/app/examples\\webgl-loader-mmd\\webgl-loader-mmd.component.ts\n",
      "src/app/examples\\webgl-loader-mdd\\webgl-loader-mdd.component.ts\n",
      "src/app/examples\\webgl-loader-md2-control\\webgl-loader-md2-control.component.ts\n",
      "src/app/examples\\webgl-loader-md2\\webgl-loader-md2.component.ts\n",
      "src/app/examples\\webgl-loader-lwo\\webgl-loader-lwo.component.ts\n",
      "src/app/examples\\webgl-loader-ldraw\\webgl-loader-ldraw.component.ts\n",
      "src/app/examples\\webgl-loader-kmz\\webgl-loader-kmz.component.ts\n",
      "src/app/examples\\webgl-loader-imagebitmap\\webgl-loader-imagebitmap.component.ts\n",
      "src/app/examples\\webgl-loader-gltf-variants\\webgl-loader-gltf-variants.component.ts\n",
      "src/app/examples\\webgl-loader-gltf-extensions\\webgl-loader-gltf-extensions.component.ts\n",
      "src/app/examples\\webgl-loader-gltf-compressed\\webgl-loader-gltf-compressed.component.ts\n",
      "src/app/examples\\webgl-loader-gltf\\webgl-loader-gltf.component.ts\n",
      "src/app/examples\\webgl-loader-gcode\\webgl-loader-gcode.component.ts\n",
      "src/app/examples\\webgl-loader-fbx-nurbs\\webgl-loader-fbx-nurbs.component.ts\n",
      "src/app/examples\\webgl-loader-fbx\\webgl-loader-fbx.component.ts\n",
      "src/app/examples\\webgl-loader-draco\\webgl-loader-draco.component.ts\n",
      "src/app/examples\\webgl-loader-collada-skinning\\webgl-loader-collada-skinning.component.ts\n",
      "src/app/examples\\webgl-loader-collada-kinematics\\webgl-loader-collada-kinematics.component.ts\n",
      "src/app/examples\\webgl-loader-collada\\webgl-loader-collada.component.ts\n",
      "src/app/examples\\webgl-loader-bvh\\webgl-loader-bvh.component.ts\n",
      "src/app/examples\\webgl-loader-assimp\\webgl-loader-assimp.component.ts\n",
      "src/app/examples\\webgl-loader-amf\\webgl-loader-amf.component.ts\n",
      "src/app/examples\\webgl-loader-mf3-materials\\webgl-loader-mf3-materials.component.ts\n",
      "src/app/examples\\webgl-loader-mf3\\webgl-loader-mf3.component.ts\n",
      "src/app/examples\\webgl-loader-ds3\\webgl-loader-ds3.component.ts\n",
      "src/app/examples\\webgl-loader-dm3\\webgl-loader-dm3.component.ts\n"
     ]
    }
   ],
   "source": [
    "contents = loadFile('src/app/examples/under-construction/under-construction.component.ts')\n",
    "for filename in readdir(\"src/app/examples/\",\"ts\") :\n",
    "    oldContents = loadFile(filename)\n",
    "    if filename.find('under-construction') == -1 and (oldContents.find('implements OnInit') > -1 or oldContents.find('under-construction') > -1):\n",
    "\n",
    "        txt_name = filename.split(\"\\\\\")[-1]\n",
    "        txt_name = re.sub(\"\\.component\\.ts\", \"\", txt_name)\n",
    "        con_txt_name = re.sub(\"\\-\", \"_\", txt_name)\n",
    "        con_txt_name = re.sub(r'_([a-z0-9])', lambda x : x.group(1).upper(), con_txt_name)\n",
    "        con_txt_name = con_txt_name[0].upper() + con_txt_name[1:]\n",
    "        newcontents = re.sub(\"UnderConstruction\", con_txt_name, contents)\n",
    "        newcontents = re.sub(\"under-construction\", txt_name, newcontents)\n",
    "        \n",
    "        saveFile(filename, newcontents)\n",
    "        print(filename)\n",
    "        "
   ]
  },
  {
   "cell_type": "code",
   "execution_count": null,
   "metadata": {},
   "outputs": [],
   "source": []
  }
 ]
}