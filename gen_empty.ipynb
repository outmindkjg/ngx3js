{
 "metadata": {
  "language_info": {
   "codemirror_mode": {
    "name": "ipython",
    "version": 3
   },
   "file_extension": ".py",
   "mimetype": "text/x-python",
   "name": "python",
   "nbconvert_exporter": "python",
   "pygments_lexer": "ipython3",
   "version": "3.9.2"
  },
  "orig_nbformat": 2,
  "kernelspec": {
   "name": "python392jvsc74a57bd050292dbb1f747f7151d445135d392af3138fb3c65386d17d9510cb605222b10b",
   "display_name": "Python 3.9.2 64-bit"
  },
  "metadata": {
   "interpreter": {
    "hash": "50292dbb1f747f7151d445135d392af3138fb3c65386d17d9510cb605222b10b"
   }
  }
 },
 "nbformat": 4,
 "nbformat_minor": 2,
 "cells": [
  {
   "cell_type": "code",
   "execution_count": 2,
   "metadata": {},
   "outputs": [],
   "source": [
    "from glob import glob\n",
    "import re\n",
    "\n",
    "def loadFile(file_name) :\n",
    "    with open(file_name, \"r\") as f :\n",
    "        return \"\".join(f.readlines())\n",
    "    return \"\"\n",
    "\n",
    "def saveFile(file_name, contents) :\n",
    "    with open(file_name, \"w\") as f :\n",
    "        f.write(contents)\n",
    "\n",
    "def readdir(dir_path, ext) :\n",
    "    return glob(\"{0}/*/*.component.{1}\".format(dir_path, ext))\n",
    "\n",
    "def naviImg(idx) :\n",
    "    return \"<img src='https://map.naver.com/v5/assets/img/directions/icon_navi{0}_directions@2x.png'/>\".format(idx)"
   ]
  },
  {
   "cell_type": "code",
   "execution_count": 2,
   "metadata": {},
   "outputs": [
    {
     "output_type": "execute_result",
     "data": {
      "text/plain": [
       "['src/app/chapter09\\\\page0913\\\\page0913.component.html',\n",
       " 'src/app/chapter09\\\\page0914\\\\page0914.component.html',\n",
       " 'src/app/chapter09\\\\page0915\\\\page0915.component.html',\n",
       " 'src/app/chapter09\\\\page0912\\\\page0912.component.html',\n",
       " 'src/app/chapter09\\\\page0908\\\\page0908.component.html',\n",
       " 'src/app/chapter09\\\\page0901\\\\page0901.component.html',\n",
       " 'src/app/chapter09\\\\page0906\\\\page0906.component.html',\n",
       " 'src/app/chapter09\\\\page0907\\\\page0907.component.html',\n",
       " 'src/app/chapter09\\\\page0909\\\\page0909.component.html',\n",
       " 'src/app/chapter09\\\\page0910\\\\page0910.component.html',\n",
       " 'src/app/chapter09\\\\page0911\\\\page0911.component.html',\n",
       " 'src/app/chapter09\\\\page0916\\\\page0916.component.html',\n",
       " 'src/app/chapter09\\\\page0905\\\\page0905.component.html',\n",
       " 'src/app/chapter09\\\\page0902\\\\page0902.component.html',\n",
       " 'src/app/chapter09\\\\page0903\\\\page0903.component.html',\n",
       " 'src/app/chapter09\\\\page0904\\\\page0904.component.html']"
      ]
     },
     "metadata": {},
     "execution_count": 2
    }
   ],
   "source": [
    "readdir(\"src/app/chapter09\",\"html\")\n",
    "# loadFile('src/app/examples/under-construction/under-construction.component.html')"
   ]
  },
  {
   "cell_type": "code",
   "execution_count": 4,
   "metadata": {
    "tags": []
   },
   "outputs": [
    {
     "output_type": "stream",
     "name": "stdout",
     "text": [
      "src/app/examples\\webgl-materials-bumpmap\\webgl-materials-bumpmap.component.html\nsrc/app/examples\\webgl-materials-car\\webgl-materials-car.component.html\nsrc/app/examples\\webgl-materials-channels\\webgl-materials-channels.component.html\nsrc/app/examples\\webgl-materials-cubemap\\webgl-materials-cubemap.component.html\nsrc/app/examples\\webgl-materials-cubemap-balls-reflection\\webgl-materials-cubemap-balls-reflection.component.html\nsrc/app/examples\\webgl-materials-cubemap-balls-refraction\\webgl-materials-cubemap-balls-refraction.component.html\nsrc/app/examples\\webgl-materials-cubemap-dynamic\\webgl-materials-cubemap-dynamic.component.html\nsrc/app/examples\\webgl-materials-cubemap-refraction\\webgl-materials-cubemap-refraction.component.html\nsrc/app/examples\\webgl-materials-cubemap-mipmaps\\webgl-materials-cubemap-mipmaps.component.html\nsrc/app/examples\\webgl-materials-curvature\\webgl-materials-curvature.component.html\nsrc/app/examples\\webgl-materials-displacementmap\\webgl-materials-displacementmap.component.html\nsrc/app/examples\\webgl-materials-envmaps\\webgl-materials-envmaps.component.html\nsrc/app/examples\\webgl-materials-envmaps-exr\\webgl-materials-envmaps-exr.component.html\nsrc/app/examples\\webgl-materials-envmaps-hdr\\webgl-materials-envmaps-hdr.component.html\nsrc/app/examples\\webgl-materials-envmaps-parallax\\webgl-materials-envmaps-parallax.component.html\nsrc/app/examples\\webgl-materials-grass\\webgl-materials-grass.component.html\nsrc/app/examples\\webgl-materials-lightmap\\webgl-materials-lightmap.component.html\nsrc/app/examples\\webgl-materials-matcap\\webgl-materials-matcap.component.html\nsrc/app/examples\\webgl-materials-normalmap\\webgl-materials-normalmap.component.html\nsrc/app/examples\\webgl-materials-normalmap-object-space\\webgl-materials-normalmap-object-space.component.html\nsrc/app/examples\\webgl-materials-parallaxmap\\webgl-materials-parallaxmap.component.html\nsrc/app/examples\\webgl-materials-physical-clearcoat\\webgl-materials-physical-clearcoat.component.html\nsrc/app/examples\\webgl-materials-physical-reflectivity\\webgl-materials-physical-reflectivity.component.html\nsrc/app/examples\\webgl-materials-physical-sheen\\webgl-materials-physical-sheen.component.html\nsrc/app/examples\\webgl-materials-physical-transmission\\webgl-materials-physical-transmission.component.html\nsrc/app/examples\\webgl-materials-shaders-fresnel\\webgl-materials-shaders-fresnel.component.html\nsrc/app/examples\\webgl-materials-standard\\webgl-materials-standard.component.html\nsrc/app/examples\\webgl-materials-subsurface-scattering\\webgl-materials-subsurface-scattering.component.html\nsrc/app/examples\\webgl-materials-texture-anisotropy\\webgl-materials-texture-anisotropy.component.html\nsrc/app/examples\\webgl-materials-texture-canvas\\webgl-materials-texture-canvas.component.html\nsrc/app/examples\\webgl-materials-texture-filters\\webgl-materials-texture-filters.component.html\nsrc/app/examples\\webgl-materials-texture-manualmipmap\\webgl-materials-texture-manualmipmap.component.html\nsrc/app/examples\\webgl-materials-texture-partialupdate\\webgl-materials-texture-partialupdate.component.html\nsrc/app/examples\\webgl-materials-texture-rotation\\webgl-materials-texture-rotation.component.html\nsrc/app/examples\\webgl-materials-variations-basic\\webgl-materials-variations-basic.component.html\nsrc/app/examples\\webgl-materials-variations-lambert\\webgl-materials-variations-lambert.component.html\nsrc/app/examples\\webgl-materials-variations-phong\\webgl-materials-variations-phong.component.html\nsrc/app/examples\\webgl-materials-variations-standard\\webgl-materials-variations-standard.component.html\nsrc/app/examples\\webgl-materials-variations-physical\\webgl-materials-variations-physical.component.html\nsrc/app/examples\\webgl-materials-variations-toon\\webgl-materials-variations-toon.component.html\nsrc/app/examples\\webgl-materials-video\\webgl-materials-video.component.html\nsrc/app/examples\\webgl-materials-video-webcam\\webgl-materials-video-webcam.component.html\nsrc/app/examples\\webgl-materials-wireframe\\webgl-materials-wireframe.component.html\n"
     ]
    }
   ],
   "source": [
    "contents = loadFile('src/app/examples/under-construction/under-construction.component.html')\n",
    "for filename in readdir(\"src/app/examples/\",\"html\") :\n",
    "    oldContents = loadFile(filename)\n",
    "    if oldContents.startswith('<p>') or oldContents.startswith('import') :\n",
    "        # txt_name = re.sub(\".+page([0-9]+[ab]?)\\..+\", \"\\\\1\", filename)\n",
    "        newcontents = contents\n",
    "        saveFile(filename, newcontents)\n",
    "        print(filename)\n",
    "        "
   ]
  },
  {
   "cell_type": "code",
   "execution_count": 5,
   "metadata": {
    "tags": []
   },
   "outputs": [
    {
     "output_type": "stream",
     "name": "stdout",
     "text": [
      "src/app/examples\\webgl-animation-cloth\\webgl-animation-cloth.component.ts\nsrc/app/examples\\webgl-materials-bumpmap\\webgl-materials-bumpmap.component.ts\nsrc/app/examples\\webgl-materials-car\\webgl-materials-car.component.ts\nsrc/app/examples\\webgl-materials-channels\\webgl-materials-channels.component.ts\nsrc/app/examples\\webgl-materials-cubemap\\webgl-materials-cubemap.component.ts\nsrc/app/examples\\webgl-materials-cubemap-balls-reflection\\webgl-materials-cubemap-balls-reflection.component.ts\nsrc/app/examples\\webgl-materials-cubemap-balls-refraction\\webgl-materials-cubemap-balls-refraction.component.ts\nsrc/app/examples\\webgl-materials-cubemap-dynamic\\webgl-materials-cubemap-dynamic.component.ts\nsrc/app/examples\\webgl-materials-cubemap-refraction\\webgl-materials-cubemap-refraction.component.ts\nsrc/app/examples\\webgl-materials-cubemap-mipmaps\\webgl-materials-cubemap-mipmaps.component.ts\nsrc/app/examples\\webgl-materials-curvature\\webgl-materials-curvature.component.ts\nsrc/app/examples\\webgl-materials-displacementmap\\webgl-materials-displacementmap.component.ts\nsrc/app/examples\\webgl-materials-envmaps\\webgl-materials-envmaps.component.ts\nsrc/app/examples\\webgl-materials-envmaps-exr\\webgl-materials-envmaps-exr.component.ts\nsrc/app/examples\\webgl-materials-envmaps-hdr\\webgl-materials-envmaps-hdr.component.ts\nsrc/app/examples\\webgl-materials-envmaps-parallax\\webgl-materials-envmaps-parallax.component.ts\nsrc/app/examples\\webgl-materials-grass\\webgl-materials-grass.component.ts\nsrc/app/examples\\webgl-materials-lightmap\\webgl-materials-lightmap.component.ts\nsrc/app/examples\\webgl-materials-matcap\\webgl-materials-matcap.component.ts\nsrc/app/examples\\webgl-materials-normalmap\\webgl-materials-normalmap.component.ts\nsrc/app/examples\\webgl-materials-normalmap-object-space\\webgl-materials-normalmap-object-space.component.ts\nsrc/app/examples\\webgl-materials-parallaxmap\\webgl-materials-parallaxmap.component.ts\nsrc/app/examples\\webgl-materials-physical-clearcoat\\webgl-materials-physical-clearcoat.component.ts\nsrc/app/examples\\webgl-materials-physical-reflectivity\\webgl-materials-physical-reflectivity.component.ts\nsrc/app/examples\\webgl-materials-physical-sheen\\webgl-materials-physical-sheen.component.ts\nsrc/app/examples\\webgl-materials-physical-transmission\\webgl-materials-physical-transmission.component.ts\nsrc/app/examples\\webgl-materials-shaders-fresnel\\webgl-materials-shaders-fresnel.component.ts\nsrc/app/examples\\webgl-materials-standard\\webgl-materials-standard.component.ts\nsrc/app/examples\\webgl-materials-subsurface-scattering\\webgl-materials-subsurface-scattering.component.ts\nsrc/app/examples\\webgl-materials-texture-anisotropy\\webgl-materials-texture-anisotropy.component.ts\nsrc/app/examples\\webgl-materials-texture-canvas\\webgl-materials-texture-canvas.component.ts\nsrc/app/examples\\webgl-materials-texture-filters\\webgl-materials-texture-filters.component.ts\nsrc/app/examples\\webgl-materials-texture-manualmipmap\\webgl-materials-texture-manualmipmap.component.ts\nsrc/app/examples\\webgl-materials-texture-partialupdate\\webgl-materials-texture-partialupdate.component.ts\nsrc/app/examples\\webgl-materials-texture-rotation\\webgl-materials-texture-rotation.component.ts\nsrc/app/examples\\webgl-materials-variations-basic\\webgl-materials-variations-basic.component.ts\nsrc/app/examples\\webgl-materials-variations-lambert\\webgl-materials-variations-lambert.component.ts\nsrc/app/examples\\webgl-materials-variations-phong\\webgl-materials-variations-phong.component.ts\nsrc/app/examples\\webgl-materials-variations-standard\\webgl-materials-variations-standard.component.ts\nsrc/app/examples\\webgl-materials-variations-physical\\webgl-materials-variations-physical.component.ts\nsrc/app/examples\\webgl-materials-variations-toon\\webgl-materials-variations-toon.component.ts\nsrc/app/examples\\webgl-materials-video\\webgl-materials-video.component.ts\nsrc/app/examples\\webgl-materials-video-webcam\\webgl-materials-video-webcam.component.ts\nsrc/app/examples\\webgl-materials-wireframe\\webgl-materials-wireframe.component.ts\n"
     ]
    }
   ],
   "source": [
    "contents = loadFile('src/app/examples/under-construction/under-construction.component.ts')\n",
    "for filename in readdir(\"src/app/examples/\",\"ts\") :\n",
    "    oldContents = loadFile(filename)\n",
    "    if filename.find('under-construction') == -1 and (oldContents.find('implements OnInit') > -1 or oldContents.find('under-construction') > -1):\n",
    "\n",
    "        txt_name = filename.split(\"\\\\\")[-1]\n",
    "        txt_name = re.sub(\"\\.component\\.ts\", \"\", txt_name)\n",
    "        con_txt_name = re.sub(\"\\-\", \"_\", txt_name)\n",
    "        con_txt_name = re.sub(r'_([a-z0-9])', lambda x : x.group(1).upper(), con_txt_name)\n",
    "        con_txt_name = con_txt_name[0].upper() + con_txt_name[1:]\n",
    "        newcontents = re.sub(\"UnderConstruction\", con_txt_name, contents)\n",
    "        newcontents = re.sub(\"under-construction\", txt_name, newcontents)\n",
    "        \n",
    "        saveFile(filename, newcontents)\n",
    "        print(filename)\n",
    "        "
   ]
  },
  {
   "cell_type": "code",
   "execution_count": 4,
   "metadata": {},
   "outputs": [
    {
     "output_type": "stream",
     "name": "stdout",
     "text": [
      "<img src='https://map.naver.com/v5/assets/img/directions/icon_navi0_directions@2x.png'/>\n<img src='https://map.naver.com/v5/assets/img/directions/icon_navi1_directions@2x.png'/>\n<img src='https://map.naver.com/v5/assets/img/directions/icon_navi2_directions@2x.png'/>\n<img src='https://map.naver.com/v5/assets/img/directions/icon_navi3_directions@2x.png'/>\n<img src='https://map.naver.com/v5/assets/img/directions/icon_navi4_directions@2x.png'/>\n<img src='https://map.naver.com/v5/assets/img/directions/icon_navi5_directions@2x.png'/>\n<img src='https://map.naver.com/v5/assets/img/directions/icon_navi6_directions@2x.png'/>\n<img src='https://map.naver.com/v5/assets/img/directions/icon_navi7_directions@2x.png'/>\n<img src='https://map.naver.com/v5/assets/img/directions/icon_navi8_directions@2x.png'/>\n<img src='https://map.naver.com/v5/assets/img/directions/icon_navi9_directions@2x.png'/>\n<img src='https://map.naver.com/v5/assets/img/directions/icon_navi10_directions@2x.png'/>\n<img src='https://map.naver.com/v5/assets/img/directions/icon_navi11_directions@2x.png'/>\n<img src='https://map.naver.com/v5/assets/img/directions/icon_navi12_directions@2x.png'/>\n<img src='https://map.naver.com/v5/assets/img/directions/icon_navi13_directions@2x.png'/>\n<img src='https://map.naver.com/v5/assets/img/directions/icon_navi14_directions@2x.png'/>\n<img src='https://map.naver.com/v5/assets/img/directions/icon_navi15_directions@2x.png'/>\n<img src='https://map.naver.com/v5/assets/img/directions/icon_navi16_directions@2x.png'/>\n<img src='https://map.naver.com/v5/assets/img/directions/icon_navi17_directions@2x.png'/>\n<img src='https://map.naver.com/v5/assets/img/directions/icon_navi18_directions@2x.png'/>\n<img src='https://map.naver.com/v5/assets/img/directions/icon_navi19_directions@2x.png'/>\n<img src='https://map.naver.com/v5/assets/img/directions/icon_navi20_directions@2x.png'/>\n<img src='https://map.naver.com/v5/assets/img/directions/icon_navi21_directions@2x.png'/>\n<img src='https://map.naver.com/v5/assets/img/directions/icon_navi22_directions@2x.png'/>\n<img src='https://map.naver.com/v5/assets/img/directions/icon_navi23_directions@2x.png'/>\n<img src='https://map.naver.com/v5/assets/img/directions/icon_navi24_directions@2x.png'/>\n<img src='https://map.naver.com/v5/assets/img/directions/icon_navi25_directions@2x.png'/>\n<img src='https://map.naver.com/v5/assets/img/directions/icon_navi26_directions@2x.png'/>\n<img src='https://map.naver.com/v5/assets/img/directions/icon_navi27_directions@2x.png'/>\n<img src='https://map.naver.com/v5/assets/img/directions/icon_navi28_directions@2x.png'/>\n<img src='https://map.naver.com/v5/assets/img/directions/icon_navi29_directions@2x.png'/>\n<img src='https://map.naver.com/v5/assets/img/directions/icon_navi30_directions@2x.png'/>\n<img src='https://map.naver.com/v5/assets/img/directions/icon_navi31_directions@2x.png'/>\n<img src='https://map.naver.com/v5/assets/img/directions/icon_navi32_directions@2x.png'/>\n<img src='https://map.naver.com/v5/assets/img/directions/icon_navi33_directions@2x.png'/>\n<img src='https://map.naver.com/v5/assets/img/directions/icon_navi34_directions@2x.png'/>\n<img src='https://map.naver.com/v5/assets/img/directions/icon_navi35_directions@2x.png'/>\n<img src='https://map.naver.com/v5/assets/img/directions/icon_navi36_directions@2x.png'/>\n<img src='https://map.naver.com/v5/assets/img/directions/icon_navi37_directions@2x.png'/>\n<img src='https://map.naver.com/v5/assets/img/directions/icon_navi38_directions@2x.png'/>\n<img src='https://map.naver.com/v5/assets/img/directions/icon_navi39_directions@2x.png'/>\n<img src='https://map.naver.com/v5/assets/img/directions/icon_navi40_directions@2x.png'/>\n<img src='https://map.naver.com/v5/assets/img/directions/icon_navi41_directions@2x.png'/>\n<img src='https://map.naver.com/v5/assets/img/directions/icon_navi42_directions@2x.png'/>\n<img src='https://map.naver.com/v5/assets/img/directions/icon_navi43_directions@2x.png'/>\n<img src='https://map.naver.com/v5/assets/img/directions/icon_navi44_directions@2x.png'/>\n<img src='https://map.naver.com/v5/assets/img/directions/icon_navi45_directions@2x.png'/>\n<img src='https://map.naver.com/v5/assets/img/directions/icon_navi46_directions@2x.png'/>\n<img src='https://map.naver.com/v5/assets/img/directions/icon_navi47_directions@2x.png'/>\n<img src='https://map.naver.com/v5/assets/img/directions/icon_navi48_directions@2x.png'/>\n<img src='https://map.naver.com/v5/assets/img/directions/icon_navi49_directions@2x.png'/>\n<img src='https://map.naver.com/v5/assets/img/directions/icon_navi50_directions@2x.png'/>\n<img src='https://map.naver.com/v5/assets/img/directions/icon_navi51_directions@2x.png'/>\n<img src='https://map.naver.com/v5/assets/img/directions/icon_navi52_directions@2x.png'/>\n<img src='https://map.naver.com/v5/assets/img/directions/icon_navi53_directions@2x.png'/>\n<img src='https://map.naver.com/v5/assets/img/directions/icon_navi54_directions@2x.png'/>\n<img src='https://map.naver.com/v5/assets/img/directions/icon_navi55_directions@2x.png'/>\n<img src='https://map.naver.com/v5/assets/img/directions/icon_navi56_directions@2x.png'/>\n<img src='https://map.naver.com/v5/assets/img/directions/icon_navi57_directions@2x.png'/>\n<img src='https://map.naver.com/v5/assets/img/directions/icon_navi58_directions@2x.png'/>\n<img src='https://map.naver.com/v5/assets/img/directions/icon_navi59_directions@2x.png'/>\n<img src='https://map.naver.com/v5/assets/img/directions/icon_navi60_directions@2x.png'/>\n<img src='https://map.naver.com/v5/assets/img/directions/icon_navi61_directions@2x.png'/>\n<img src='https://map.naver.com/v5/assets/img/directions/icon_navi62_directions@2x.png'/>\n<img src='https://map.naver.com/v5/assets/img/directions/icon_navi63_directions@2x.png'/>\n<img src='https://map.naver.com/v5/assets/img/directions/icon_navi64_directions@2x.png'/>\n<img src='https://map.naver.com/v5/assets/img/directions/icon_navi65_directions@2x.png'/>\n<img src='https://map.naver.com/v5/assets/img/directions/icon_navi66_directions@2x.png'/>\n<img src='https://map.naver.com/v5/assets/img/directions/icon_navi67_directions@2x.png'/>\n<img src='https://map.naver.com/v5/assets/img/directions/icon_navi68_directions@2x.png'/>\n<img src='https://map.naver.com/v5/assets/img/directions/icon_navi69_directions@2x.png'/>\n<img src='https://map.naver.com/v5/assets/img/directions/icon_navi70_directions@2x.png'/>\n<img src='https://map.naver.com/v5/assets/img/directions/icon_navi71_directions@2x.png'/>\n<img src='https://map.naver.com/v5/assets/img/directions/icon_navi72_directions@2x.png'/>\n<img src='https://map.naver.com/v5/assets/img/directions/icon_navi73_directions@2x.png'/>\n<img src='https://map.naver.com/v5/assets/img/directions/icon_navi74_directions@2x.png'/>\n<img src='https://map.naver.com/v5/assets/img/directions/icon_navi75_directions@2x.png'/>\n<img src='https://map.naver.com/v5/assets/img/directions/icon_navi76_directions@2x.png'/>\n<img src='https://map.naver.com/v5/assets/img/directions/icon_navi77_directions@2x.png'/>\n<img src='https://map.naver.com/v5/assets/img/directions/icon_navi78_directions@2x.png'/>\n<img src='https://map.naver.com/v5/assets/img/directions/icon_navi79_directions@2x.png'/>\n<img src='https://map.naver.com/v5/assets/img/directions/icon_navi80_directions@2x.png'/>\n<img src='https://map.naver.com/v5/assets/img/directions/icon_navi81_directions@2x.png'/>\n<img src='https://map.naver.com/v5/assets/img/directions/icon_navi82_directions@2x.png'/>\n<img src='https://map.naver.com/v5/assets/img/directions/icon_navi83_directions@2x.png'/>\n<img src='https://map.naver.com/v5/assets/img/directions/icon_navi84_directions@2x.png'/>\n<img src='https://map.naver.com/v5/assets/img/directions/icon_navi85_directions@2x.png'/>\n<img src='https://map.naver.com/v5/assets/img/directions/icon_navi86_directions@2x.png'/>\n<img src='https://map.naver.com/v5/assets/img/directions/icon_navi87_directions@2x.png'/>\n<img src='https://map.naver.com/v5/assets/img/directions/icon_navi88_directions@2x.png'/>\n<img src='https://map.naver.com/v5/assets/img/directions/icon_navi89_directions@2x.png'/>\n<img src='https://map.naver.com/v5/assets/img/directions/icon_navi90_directions@2x.png'/>\n<img src='https://map.naver.com/v5/assets/img/directions/icon_navi91_directions@2x.png'/>\n<img src='https://map.naver.com/v5/assets/img/directions/icon_navi92_directions@2x.png'/>\n<img src='https://map.naver.com/v5/assets/img/directions/icon_navi93_directions@2x.png'/>\n<img src='https://map.naver.com/v5/assets/img/directions/icon_navi94_directions@2x.png'/>\n<img src='https://map.naver.com/v5/assets/img/directions/icon_navi95_directions@2x.png'/>\n<img src='https://map.naver.com/v5/assets/img/directions/icon_navi96_directions@2x.png'/>\n<img src='https://map.naver.com/v5/assets/img/directions/icon_navi97_directions@2x.png'/>\n<img src='https://map.naver.com/v5/assets/img/directions/icon_navi98_directions@2x.png'/>\n<img src='https://map.naver.com/v5/assets/img/directions/icon_navi99_directions@2x.png'/>\n<img src='https://map.naver.com/v5/assets/img/directions/icon_navi100_directions@2x.png'/>\n<img src='https://map.naver.com/v5/assets/img/directions/icon_navi101_directions@2x.png'/>\n<img src='https://map.naver.com/v5/assets/img/directions/icon_navi102_directions@2x.png'/>\n<img src='https://map.naver.com/v5/assets/img/directions/icon_navi103_directions@2x.png'/>\n<img src='https://map.naver.com/v5/assets/img/directions/icon_navi104_directions@2x.png'/>\n<img src='https://map.naver.com/v5/assets/img/directions/icon_navi105_directions@2x.png'/>\n<img src='https://map.naver.com/v5/assets/img/directions/icon_navi106_directions@2x.png'/>\n<img src='https://map.naver.com/v5/assets/img/directions/icon_navi107_directions@2x.png'/>\n<img src='https://map.naver.com/v5/assets/img/directions/icon_navi108_directions@2x.png'/>\n<img src='https://map.naver.com/v5/assets/img/directions/icon_navi109_directions@2x.png'/>\n<img src='https://map.naver.com/v5/assets/img/directions/icon_navi110_directions@2x.png'/>\n<img src='https://map.naver.com/v5/assets/img/directions/icon_navi111_directions@2x.png'/>\n<img src='https://map.naver.com/v5/assets/img/directions/icon_navi112_directions@2x.png'/>\n<img src='https://map.naver.com/v5/assets/img/directions/icon_navi113_directions@2x.png'/>\n<img src='https://map.naver.com/v5/assets/img/directions/icon_navi114_directions@2x.png'/>\n<img src='https://map.naver.com/v5/assets/img/directions/icon_navi115_directions@2x.png'/>\n<img src='https://map.naver.com/v5/assets/img/directions/icon_navi116_directions@2x.png'/>\n<img src='https://map.naver.com/v5/assets/img/directions/icon_navi117_directions@2x.png'/>\n<img src='https://map.naver.com/v5/assets/img/directions/icon_navi118_directions@2x.png'/>\n<img src='https://map.naver.com/v5/assets/img/directions/icon_navi119_directions@2x.png'/>\n<img src='https://map.naver.com/v5/assets/img/directions/icon_navi120_directions@2x.png'/>\n<img src='https://map.naver.com/v5/assets/img/directions/icon_navi121_directions@2x.png'/>\n<img src='https://map.naver.com/v5/assets/img/directions/icon_navi122_directions@2x.png'/>\n<img src='https://map.naver.com/v5/assets/img/directions/icon_navi123_directions@2x.png'/>\n<img src='https://map.naver.com/v5/assets/img/directions/icon_navi124_directions@2x.png'/>\n<img src='https://map.naver.com/v5/assets/img/directions/icon_navi125_directions@2x.png'/>\n<img src='https://map.naver.com/v5/assets/img/directions/icon_navi126_directions@2x.png'/>\n<img src='https://map.naver.com/v5/assets/img/directions/icon_navi127_directions@2x.png'/>\n<img src='https://map.naver.com/v5/assets/img/directions/icon_navi128_directions@2x.png'/>\n<img src='https://map.naver.com/v5/assets/img/directions/icon_navi129_directions@2x.png'/>\n"
     ]
    }
   ],
   "source": [
    "for idx in range(130) : \n",
    "    print(naviImg(idx))"
   ]
  },
  {
   "cell_type": "code",
   "execution_count": null,
   "metadata": {},
   "outputs": [],
   "source": []
  }
 ]
}