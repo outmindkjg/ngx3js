{
 "metadata": {
  "language_info": {
   "codemirror_mode": {
    "name": "ipython",
    "version": 3
   },
   "file_extension": ".py",
   "mimetype": "text/x-python",
   "name": "python",
   "nbconvert_exporter": "python",
   "pygments_lexer": "ipython3",
   "version": "3.8.3-final"
  },
  "orig_nbformat": 2,
  "kernelspec": {
   "name": "python3",
   "display_name": "Python 3",
   "language": "python"
  }
 },
 "nbformat": 4,
 "nbformat_minor": 2,
 "cells": [
  {
   "cell_type": "code",
   "execution_count": 13,
   "metadata": {},
   "outputs": [],
   "source": [
    "from glob import glob\n",
    "import re\n",
    "\n",
    "def loadFile(file_name) :\n",
    "    with open(file_name, \"r\") as f :\n",
    "        return \"\".join(f.readlines())\n",
    "    return \"\"\n",
    "\n",
    "def saveFile(file_name, contents) :\n",
    "    with open(file_name, \"w\") as f :\n",
    "        f.write(contents)\n",
    "\n",
    "def readdir(dir_path, ext) :\n",
    "    return glob(\"{0}/*/*.component.{1}\".format(dir_path, ext))"
   ]
  },
  {
   "cell_type": "code",
   "execution_count": 7,
   "metadata": {},
   "outputs": [
    {
     "output_type": "execute_result",
     "data": {
      "text/plain": [
       "['src/app/chapter08\\\\page0801\\\\page0801.component.html',\n",
       " 'src/app/chapter08\\\\page0802\\\\page0802.component.html',\n",
       " 'src/app/chapter08\\\\page0803\\\\page0803.component.html',\n",
       " 'src/app/chapter08\\\\page0804\\\\page0804.component.html',\n",
       " 'src/app/chapter08\\\\page0805\\\\page0805.component.html',\n",
       " 'src/app/chapter08\\\\page0806\\\\page0806.component.html',\n",
       " 'src/app/chapter08\\\\page0807\\\\page0807.component.html',\n",
       " 'src/app/chapter08\\\\page0808\\\\page0808.component.html',\n",
       " 'src/app/chapter08\\\\page0809\\\\page0809.component.html',\n",
       " 'src/app/chapter08\\\\page0810\\\\page0810.component.html',\n",
       " 'src/app/chapter08\\\\page0811\\\\page0811.component.html',\n",
       " 'src/app/chapter08\\\\page0812\\\\page0812.component.html',\n",
       " 'src/app/chapter08\\\\page0813\\\\page0813.component.html',\n",
       " 'src/app/chapter08\\\\page0814\\\\page0814.component.html',\n",
       " 'src/app/chapter08\\\\page0815\\\\page0815.component.html',\n",
       " 'src/app/chapter08\\\\page0816\\\\page0816.component.html',\n",
       " 'src/app/chapter08\\\\page0817\\\\page0817.component.html']"
      ]
     },
     "metadata": {},
     "execution_count": 7
    }
   ],
   "source": [
    "readdir(\"src/app/chapter11\",\"html\")"
   ]
  },
  {
   "cell_type": "code",
   "execution_count": 22,
   "metadata": {
    "tags": []
   },
   "outputs": [
    {
     "output_type": "stream",
     "name": "stdout",
     "text": [
      "src/app/chapter11\\page1101\\page1101.component.html\nsrc/app/chapter11\\page1102\\page1102.component.html\nsrc/app/chapter11\\page1103a\\page1103a.component.html\nsrc/app/chapter11\\page1103b\\page1103b.component.html\nsrc/app/chapter11\\page1104\\page1104.component.html\nsrc/app/chapter11\\page1105\\page1105.component.html\nsrc/app/chapter11\\page1106\\page1106.component.html\nsrc/app/chapter11\\page1107\\page1107.component.html\n"
     ]
    }
   ],
   "source": [
    "contents = loadFile('src/app/chapter08/page0801/page0801.component.html')\n",
    "for filename in readdir(\"src/app/chapter11\",\"html\") :\n",
    "    txt_name = re.sub(\".+page([0-9]+[ab]?)\\..+\", \"\\\\1\", filename)\n",
    "    newcontents = re.sub(\"0801\", txt_name, contents)\n",
    "    saveFile(filename, newcontents)\n",
    "    print(filename)"
   ]
  },
  {
   "cell_type": "code",
   "execution_count": 23,
   "metadata": {},
   "outputs": [
    {
     "output_type": "stream",
     "name": "stdout",
     "text": [
      "src/app/chapter11\\page1101\\page1101.component.ts\nsrc/app/chapter11\\page1102\\page1102.component.ts\nsrc/app/chapter11\\page1103a\\page1103a.component.ts\nsrc/app/chapter11\\page1103b\\page1103b.component.ts\nsrc/app/chapter11\\page1104\\page1104.component.ts\nsrc/app/chapter11\\page1105\\page1105.component.ts\nsrc/app/chapter11\\page1106\\page1106.component.ts\nsrc/app/chapter11\\page1107\\page1107.component.ts\n"
     ]
    }
   ],
   "source": [
    "contents = loadFile('src/app/chapter08/page0801/page0801.component.ts')\n",
    "for filename in readdir(\"src/app/chapter11\",\"ts\") :\n",
    "    txt_name = re.sub(\".+page([0-9]+[ab]?)\\..+\", \"\\\\1\", filename)\n",
    "    newcontents = re.sub(\"0801\", txt_name, contents)\n",
    "    saveFile(filename, newcontents)\n",
    "    print(filename)"
   ]
  },
  {
   "cell_type": "code",
   "execution_count": null,
   "metadata": {},
   "outputs": [],
   "source": []
  }
 ]
}